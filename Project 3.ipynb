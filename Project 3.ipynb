{
 "cells": [
  {
   "cell_type": "markdown",
   "metadata": {},
   "source": [
    "### Project Report 3: Mechanics of a Falling Object\n",
    "#### Author: Laird Stewart\n",
    "#### Date: March 26, 2020\n",
    "#### Other group members: None\n",
    "#### Summary:\n",
    "In this project I first model a falling object in a fluid with resistance. I then use the general model I created to try and find the fluid density and resistance constants of a real world problem being given the position vs. time data of the falling object. After finding these constants, I can use my model to fit the data with my own differential equation. I also fit the given data with four different polynomials. \n",
    "\n",
    "The model of this falling object that I create will be deterministic, dynamic (the data we are fitting involves time and trajectories), well-mixed (assuming uniform densities), and continuous in time and space. Although the data we are given has descrete (time, position) pairings, the model I will be fitting to it will be continuous. "
   ]
  },
  {
   "cell_type": "markdown",
   "metadata": {},
   "source": [
    "# Problem analysis\n",
    "#### Physical considerations\n",
    "We are assuming that our object is a sphere and is starting at rest with no velocity. We also assume gravity is that of earths ~9.8. We also assume that the ball and fluid are of constantly distributed densities. In a vector diagram of the sysetem downard is positive (so all our positions and velocities are positive). Gravity will point downward while the density of the water and the fluid resistance are negative (point upward). \n",
    "\n",
    "#### Coding considerations\n",
    "There are two main coding problems: \n",
    "1. Define the model I develop as a working differential equation.\n",
    "2. Optimize my model/polynomials to the data to fit the parameter. \n",
    "\n",
    "I also have to find guesses of the parameters for part 2, this involves some math and some coding as part of model development, it also actually uses a few polynomial fits to get basic ideas of the data at starting and terminal velocities.  \n",
    "\n",
    "Solving step 1 is something we have done a good amount of in the previous two chapters. I will define two functions, one that models the differential equation and another that integrates that differential equatoin, turning it into a working function. \n",
    "\n",
    "For the second part I will use the built in curve_fit method from scipy. It uses the Levenberg-Marquardt algoritm for optimization which I will not go to in depth here. Using curve fit only takes one line of code, but in many cases requires good guesses of the parameters to begin with to guarantee that it will find a good fit. The majority of the project is contained in the model development section where I find intial guesses for what these parameters may be. "
   ]
  },
  {
   "cell_type": "markdown",
   "metadata": {},
   "source": [
    "# Model development"
   ]
  },
  {
   "cell_type": "markdown",
   "metadata": {},
   "source": [
    "This model will be comprised of two differential equations relating the balls mass and position. They can be derived as such: "
   ]
  },
  {
   "cell_type": "markdown",
   "metadata": {},
   "source": [
    "#### Derive System of Differential Equations of the Model"
   ]
  },
  {
   "cell_type": "markdown",
   "metadata": {},
   "source": [
    "*Gravity Force + Boyancy Force:*  \n",
    "$$(\\rho_{ball}-\\rho_{fluid})Vg$$\n",
    "\n",
    "*Drag Force:*\n",
    "$$av+bv^2$$\n",
    "\n",
    "*Sum of Forces = ma:*\n",
    "$$\\sum F = ma $$\n",
    "$$(\\rho_{ball}-\\rho_{fluid})Vg - (av+bv^2) = ma$$\n",
    "$$ a = \\frac{dv}{dt}$$\n",
    "$$(\\rho_{ball}-\\rho_{fluid})Vg - (av+bv^2) = m\\frac{dv}{dt}$$\n",
    "$$\\frac{dv}{dt}=\\frac{(\\rho_{ball}-\\rho_{fluid})Vg - av - bv^2}{m}$$\n",
    "\n",
    "$$\\rho_{ball} = \\frac{m}{V}$$\n",
    "\n",
    "*Equation 1:*\n",
    "$$\\frac{dv}{dt}=\\frac{mg-\\rho_{fluid}Vg - av - bv^2}{m}$$\n",
    "\n",
    "*Equation 2:*\n",
    "$$\\frac{dx}{dt} = v$$"
   ]
  },
  {
   "cell_type": "markdown",
   "metadata": {},
   "source": [
    "#### Find Guesses for a, b, $\\rho_{fluid}$"
   ]
  },
  {
   "cell_type": "markdown",
   "metadata": {},
   "source": [
    "The goal of this project is to fit the parameters of this system to our newly constructed model. But before we start, in order to use the optimizer built into the curve_fit method in scipy, we must provide guesses for the parameters that we want to fit. In this case we can use a variety of mathematical tools to find guesses for a, b, and p_fluid."
   ]
  },
  {
   "cell_type": "markdown",
   "metadata": {},
   "source": [
    "At its terminal velocity the acceleration of the ball = 0. Plugging this into our $\\sum F$ eqation, we can find a relationship between p_fluid, b, and the terminal velocity. Note that because b scales $v^2$ it will become the dominant term and a will become insignificant. \n",
    "\n",
    "$$\\frac{dv}{dt}=\\frac{mg-\\rho_{fluid}Vg - av - bv^2}{m}$$\n",
    "$$0=mg-\\rho_{fluid}Vg - bv_{terminal}^2$$\n",
    "\n",
    "Now we need to guess the terminal velocity from the data given so we can find a ratio between p_fluid and b. I will take a 1st degree polynomial fit of the data towards the end (where it is linear) so we can approximate the slope. The data and function that I am using here are defined below. "
   ]
  },
  {
   "cell_type": "code",
   "execution_count": 140,
   "metadata": {},
   "outputs": [
    {
     "data": {
      "image/png": "[encoded data removed]",
      "text/plain": [
       "<Figure size 432x288 with 1 Axes>"
      ]
     },
     "metadata": {
      "needs_background": "light"
     },
     "output_type": "display_data"
    },
    {
     "name": "stdout",
     "output_type": "stream",
     "text": [
      "Terminal Velocity: 51.01232636372596\n"
     ]
    }
   ],
   "source": [
    "vf_time_data = time_data[140:]\n",
    "vf_position_data = position_data[140:]\n",
    "\n",
    "popt1, pcov1 = curve_fit(deg1_poly, vf_time_data, vf_position_data, p0=[10, 10])\n",
    "a = popt1[0]\n",
    "b = popt1[1]\n",
    "\n",
    "plt.plot(vf_time_data, deg1_poly(vf_time_data, a, b), label='linear fit')\n",
    "plt.scatter(time_data, position_data, label='data', s = 3, alpha = 0.1, c = \"red\")\n",
    "plt.xlabel('time')\n",
    "plt.ylabel('position')\n",
    "plt.legend()\n",
    "plt.show()\n",
    "\n",
    "vel_terminal = b\n",
    "print(\"Terminal Velocity: \" + str(vel_terminal))"
   ]
  },
  {
   "cell_type": "markdown",
   "metadata": {},
   "source": [
    "This gives my guess of final velocity: ~50. Now, we can use this value to find a ratio between fluid density and b:\n",
    "$$0=mg-\\rho_{fluid}Vg - bv_{terminal}^2$$\n",
    "\n",
    "Now if we could find a guess for either fluid density or b we could find a guess for the other. If we examine the $\\frac{dv}{dt}$ equation when velocity is small we can remove the drag terms and simplify it: \n",
    "$$\\frac{dv}{dt}=\\frac{mg-\\rho_{fluid}Vg - av - bv^2}{m}, v <<$$\n",
    "\n",
    "$$m\\frac{dv}{dt}=mg-\\rho_{fluid}Vg$$\n",
    "\n",
    "$$\\rho_{fluid}=\\frac{mg-ma}{Vg}$$\n",
    "\n",
    "Now, like how we found a guess for terminal velocity, if we can find a guess for acceleration when velocity is small (at the beginning of the experiement) we could find a guess for $\\rho_{fluid}$. To do this I will find a second detree polynomial fit of the beggining of the data to approximate a second derivative (acceleration) value. "
   ]
  },
  {
   "cell_type": "code",
   "execution_count": 141,
   "metadata": {},
   "outputs": [
    {
     "data": {
      "image/png": "[encoded data removed]",
      "text/plain": [
       "<Figure size 432x288 with 1 Axes>"
      ]
     },
     "metadata": {
      "needs_background": "light"
     },
     "output_type": "display_data"
    }
   ],
   "source": [
    "acc_time_data = time_data[0:4]\n",
    "acc_position_data = position_data[0:4]\n",
    "\n",
    "popt2, pcov2 = curve_fit(deg2_poly, acc_time_data, acc_position_data, p0=[10, 10, 10])\n",
    "a = popt2[0]\n",
    "b = popt2[1]\n",
    "c = popt2[2]\n",
    "\n",
    "plt.plot(acc_time_data, deg2_poly(acc_time_data, a, b, c), label='quadradic fit')\n",
    "plt.scatter(time_data, position_data, label='data', s = 3, alpha = 0.1, c = \"red\")\n",
    "plt.xlabel('time')\n",
    "plt.ylabel('position')\n",
    "plt.legend()\n",
    "plt.show()"
   ]
  },
  {
   "cell_type": "code",
   "execution_count": 142,
   "metadata": {},
   "outputs": [
    {
     "name": "stdout",
     "output_type": "stream",
     "text": [
      "acceleration estimate: 9.73771602093496\n",
      "fluid desnity guess: 4.449078101407991\n"
     ]
    }
   ],
   "source": [
    "acc_estimate = 2*c\n",
    "print(\"acceleration estimate: \" + str(acc_estimate))\n",
    "m = 0.1\n",
    "g = 9.8 \n",
    "V = 0.00014285\n",
    "p_fluid_estimate = (m*g - m*acc_estimate)/(V*g)\n",
    "print(\"fluid desnity guess: \" + str(p_fluid_estimate))"
   ]
  },
  {
   "cell_type": "markdown",
   "metadata": {},
   "source": [
    "Now with this fluid density estimate of ~4 we can try to guess b: \n",
    "$$0=mg-\\rho_{fluid}Vg - bv_{terminal}^2$$"
   ]
  },
  {
   "cell_type": "code",
   "execution_count": 143,
   "metadata": {},
   "outputs": [
    {
     "name": "stdout",
     "output_type": "stream",
     "text": [
      "b guess: 0.0003742026391149796\n",
      "fluid desnity guess: 4.449078101407991\n"
     ]
    }
   ],
   "source": [
    "b = (m*g - p_fluid_estimate*V*g)/(vel_terminal**2)\n",
    "print(\"b guess: \" + str(b))\n",
    "print(\"fluid desnity guess: \" + str(p_fluid_estimate))"
   ]
  },
  {
   "cell_type": "markdown",
   "metadata": {},
   "source": [
    "Now we have guesses for b and $\\rho_{fluid}$. 'a' is much harder to find a guess for either with the math or with the given data. For the purpose of this experiment I will just use b as a guess for a because I don't think its entirely out of the ballpark to say that v and $v^2$ coeficients are simmilar in magnitude. Later while doing the fitting, it is clear that this shouuld be ok as almost any guess value returns a simmilar a_fit. Now we can get on to the model:"
   ]
  },
  {
   "cell_type": "markdown",
   "metadata": {},
   "source": [
    "# Model Implementation"
   ]
  },
  {
   "cell_type": "code",
   "execution_count": 144,
   "metadata": {},
   "outputs": [],
   "source": [
    "# IMPORTING MODULES___________________________________________________________________\n",
    "import numpy as np\n",
    "import matplotlib.pyplot as plt\n",
    "from scipy.optimize import curve_fit\n",
    "from scipy.integrate import odeint"
   ]
  },
  {
   "cell_type": "code",
   "execution_count": 145,
   "metadata": {},
   "outputs": [
    {
     "data": {
      "image/png": "[encoded data removed]",
      "text/plain": [
       "<Figure size 432x288 with 1 Axes>"
      ]
     },
     "metadata": {
      "needs_background": "light"
     },
     "output_type": "display_data"
    }
   ],
   "source": [
    "# \"BALL\" DATA SET LOADING AND PLOTTING________________________________________________\n",
    "ball = np.loadtxt(\"/Users/hstewart18/Desktop/ball.txt\")\n",
    "time_data = ball[:, 0]\n",
    "position_data = ball[:, 1]\n",
    "plt.scatter(time_data, position_data, label='Ball', s = 3, alpha = 0.5, c = \"red\")\n",
    "plt.xlabel('time')\n",
    "plt.ylabel('position')\n",
    "plt.legend()\n",
    "plt.show()"
   ]
  },
  {
   "cell_type": "markdown",
   "metadata": {},
   "source": [
    "### Define Function of the Model"
   ]
  },
  {
   "cell_type": "code",
   "execution_count": 146,
   "metadata": {},
   "outputs": [],
   "source": [
    "def falling_ball(x_v, t, a, b, p_fluid): \n",
    "    \"\"\"\n",
    "    Inputs \n",
    "        x_v:      array of current x(position) and v(velocity) values\n",
    "        p_fluid:  density of fluid \n",
    "        a, b:     drag coeficients \n",
    "    Output \n",
    "        [dX, dV]: current changes in position and velocity with respect to time \n",
    "    \"\"\"\n",
    "    \n",
    "    dX = x_v[1]\n",
    "    dV = (m*g - p_fluid*V*g - a*x_v[1] - b*(x_v[1]**2))/m\n",
    "    \n",
    "    return np.array((dX,dV))"
   ]
  },
  {
   "cell_type": "code",
   "execution_count": 147,
   "metadata": {},
   "outputs": [],
   "source": [
    "def falling_ball_trajectory(t, a, b, p_fluid): \n",
    "    return odeint(falling_ball, init_cond, t, args=(a, b, p_fluid))[:, 0]\n",
    "\n",
    "#note: i take [:, 0] at the end because we only care about position"
   ]
  },
  {
   "cell_type": "markdown",
   "metadata": {},
   "source": [
    "### Initialize Variables"
   ]
  },
  {
   "cell_type": "code",
   "execution_count": 148,
   "metadata": {},
   "outputs": [],
   "source": [
    "m = 0.1  # mass kg \n",
    "p_ball = 700  # density kg/m^3\n",
    "V = m/p_ball  # Volume = 0.00014285\n",
    "V0 = 0  # Initial Velocity \n",
    "X0 = 0  # Initial position\n",
    "g = 9.8  # acceleration due to gravity \n",
    "init_cond = np.array((X0,V0))\n",
    "\n",
    "# a: drag force coeficient (unknown)\n",
    "# b: drag force coeficient (unkown)\n",
    "# p_fluid: fluid density (unknown)"
   ]
  },
  {
   "cell_type": "markdown",
   "metadata": {},
   "source": [
    "### Use curve_fit to find optimized parameter values"
   ]
  },
  {
   "cell_type": "code",
   "execution_count": 149,
   "metadata": {},
   "outputs": [
    {
     "name": "stdout",
     "output_type": "stream",
     "text": [
      "a_fit: 0.00026611188266238944\n",
      "b_fit: 0.0003658912727057982\n",
      "p_fluid_fit: 7.085328824634153e-13\n"
     ]
    }
   ],
   "source": [
    "a_guess = 0.0003\n",
    "b_guess = 0.0003\n",
    "p_fluid_guess = 52  # has to be less dense than the ball\n",
    "\n",
    "guess_bound = [0, np.inf]\n",
    "popt, pcov = curve_fit(falling_ball_trajectory, time_data, position_data, p0=(a_guess, b_guess, p_fluid_guess), bounds = guess_bound)\n",
    "a_fit = popt[0]\n",
    "b_fit = popt[1]\n",
    "p_fluid_fit = popt[2]\n",
    "\n",
    "#std_error = np.sqrt(np.diag(pcov)) # standard error of my parameter estimates\n",
    "#print(std_error)\n",
    "\n",
    "print(\"a_fit: \" + str(a_fit))\n",
    "print(\"b_fit: \" + str(b_fit))\n",
    "print(\"p_fluid_fit: \" + str(p_fluid_fit))"
   ]
  },
  {
   "cell_type": "markdown",
   "metadata": {},
   "source": [
    "### Plug these fitted parameters into my model and plot"
   ]
  },
  {
   "cell_type": "code",
   "execution_count": 150,
   "metadata": {},
   "outputs": [
    {
     "data": {
      "image/png": "[encoded data removed]",
      "text/plain": [
       "<Figure size 432x288 with 1 Axes>"
      ]
     },
     "metadata": {
      "needs_background": "light"
     },
     "output_type": "display_data"
    },
    {
     "data": {
      "image/png": "[encoded data removed]",
      "text/plain": [
       "<Figure size 432x288 with 1 Axes>"
      ]
     },
     "metadata": {
      "needs_background": "light"
     },
     "output_type": "display_data"
    }
   ],
   "source": [
    "SimulationTime = 30\n",
    "dt = 0.01\n",
    "t = np.arange(0.0, SimulationTime+dt, dt)\n",
    "\n",
    "fit_data = odeint(falling_ball, init_cond, t, args=(a_fit, b_fit, p_fluid_fit))\n",
    "\n",
    "plt.plot(t, fit_data[:,0], label='fit')\n",
    "plt.scatter(time_data, position_data, label='data', s = 20, alpha = 1, c = \"red\")\n",
    "plt.xlabel('time')\n",
    "plt.ylabel('position')\n",
    "plt.legend()\n",
    "plt.xlim(0, 3)\n",
    "plt.ylim(0, 30)\n",
    "plt.show()\n",
    "\n",
    "plt.plot(t, fit_data[:,0], label='fit')\n",
    "plt.scatter(time_data, position_data, label='data', s = 5, alpha = 1, c = \"red\")\n",
    "plt.xlabel('time')\n",
    "plt.ylabel('position')\n",
    "plt.legend()\n",
    "plt.xlim(0, 23)\n",
    "plt.ylim(0, 1000)\n",
    "plt.show()"
   ]
  },
  {
   "cell_type": "markdown",
   "metadata": {},
   "source": [
    "### Fitting Polynomials to the data"
   ]
  },
  {
   "cell_type": "code",
   "execution_count": 151,
   "metadata": {},
   "outputs": [],
   "source": [
    "def deg1_poly(x, a, b): \n",
    "    return a + b*x\n",
    "\n",
    "def deg2_poly(x, a, b, c): \n",
    "    return a + b*x + c*x**2\n",
    "\n",
    "def deg3_poly(x, a, b, c, d): \n",
    "    return a + b*x + c*x**2 + d*x**3\n",
    "\n",
    "def deg4_poly(x, a, b, c, d, e): \n",
    "    return a + b*x + c*x**2 + d*x**3 + e*x**4\n",
    "\n",
    "\n",
    "popt1, pcov1 = curve_fit(deg1_poly, time_data, position_data, p0=[10, 10])\n",
    "a1 = popt1[0]\n",
    "b1 = popt1[1]\n",
    "\n",
    "\n",
    "popt2, pcov2 = curve_fit(deg2_poly, time_data, position_data, p0=[10, 10, 10])\n",
    "a2 = popt2[0]\n",
    "b2 = popt2[1]\n",
    "c2 = popt2[2]\n",
    "\n",
    "popt3, pcov3 = curve_fit(deg3_poly, time_data, position_data, p0=[10, 10, 10, 10])\n",
    "a3 = popt3[0]\n",
    "b3 = popt3[1]\n",
    "c3 = popt3[2]\n",
    "d3 = popt3[3]\n",
    "\n",
    "popt4, pcov4 = curve_fit(deg4_poly, time_data, position_data, p0=[10, 10, 10, 10, 10])\n",
    "a4 = popt4[0]\n",
    "b4 = popt4[1]\n",
    "c4 = popt4[2]\n",
    "d4 = popt4[3]\n",
    "e4 = popt4[4]"
   ]
  },
  {
   "cell_type": "code",
   "execution_count": 11,
   "metadata": {},
   "outputs": [
    {
     "data": {
      "image/png": "[encoded data removed]",
      "text/plain": [
       "<Figure size 432x288 with 1 Axes>"
      ]
     },
     "metadata": {
      "needs_background": "light"
     },
     "output_type": "display_data"
    }
   ],
   "source": [
    "# First Degree polynomial\n",
    "plt.plot(t, deg1_poly(t, a1, b1), label='linear fit')\n",
    "plt.scatter(time_data, position_data, label='data', s = 3, c = \"red\")\n",
    "plt.xlabel('time')\n",
    "plt.ylabel('position')\n",
    "plt.legend()\n",
    "plt.xlim(0, 23)\n",
    "plt.ylim(0, 1000)\n",
    "plt.show()"
   ]
  },
  {
   "cell_type": "code",
   "execution_count": 12,
   "metadata": {},
   "outputs": [
    {
     "data": {
      "image/png": "[encoded data removed]",
      "text/plain": [
       "<Figure size 432x288 with 1 Axes>"
      ]
     },
     "metadata": {
      "needs_background": "light"
     },
     "output_type": "display_data"
    }
   ],
   "source": [
    "# Second Degree polynomial\n",
    "plt.plot(t, deg2_poly(t, a2, b2, c2), label='quadratic fit')\n",
    "plt.scatter(time_data, position_data, label='data', s = 3, c = \"red\")\n",
    "plt.xlabel('time')\n",
    "plt.ylabel('position')\n",
    "plt.xlim(0, 23)\n",
    "plt.ylim(0, 1000)\n",
    "plt.show()"
   ]
  },
  {
   "cell_type": "code",
   "execution_count": 13,
   "metadata": {},
   "outputs": [
    {
     "data": {
      "image/png": "[encoded data removed]",
      "text/plain": [
       "<Figure size 432x288 with 1 Axes>"
      ]
     },
     "metadata": {
      "needs_background": "light"
     },
     "output_type": "display_data"
    }
   ],
   "source": [
    "# Third Degree polynomial\n",
    "plt.plot(t, deg3_poly(t, a3, b3, c3, d3), label='cubic fit')\n",
    "plt.scatter(time_data, position_data, label='data', s = 3, c = \"red\")\n",
    "plt.xlabel('time')\n",
    "plt.ylabel('position')\n",
    "plt.xlim(0, 23)\n",
    "plt.ylim(0, 1000)\n",
    "plt.show()"
   ]
  },
  {
   "cell_type": "code",
   "execution_count": 14,
   "metadata": {},
   "outputs": [
    {
     "data": {
      "image/png": "[encoded data removed]",
      "text/plain": [
       "<Figure size 432x288 with 1 Axes>"
      ]
     },
     "metadata": {
      "needs_background": "light"
     },
     "output_type": "display_data"
    }
   ],
   "source": [
    "# Fourth Degree polynomial\n",
    "plt.plot(t, deg4_poly(t, a4, b4, c4, d4, e4), label='cubic fit')\n",
    "plt.scatter(time_data, position_data, label='data', s = 3, c = \"red\")\n",
    "plt.xlabel('time')\n",
    "plt.ylabel('position')\n",
    "plt.xlim(0, 23)\n",
    "plt.ylim(0, 1000)\n",
    "plt.show()"
   ]
  },
  {
   "cell_type": "markdown",
   "metadata": {},
   "source": [
    "# Model Verification"
   ]
  },
  {
   "cell_type": "markdown",
   "metadata": {},
   "source": [
    "My use of curve_fit and odeint does not need to be verified, but I do need to verify that my differential equation solving function that I defined works as I would expect. Also, seeing that my original guess for b was close to the optimized computed value is a step of verification."
   ]
  },
  {
   "cell_type": "code",
   "execution_count": 114,
   "metadata": {},
   "outputs": [
    {
     "data": {
      "image/png": "[encoded data removed]",
      "text/plain": [
       "<Figure size 432x288 with 1 Axes>"
      ]
     },
     "metadata": {
      "needs_background": "light"
     },
     "output_type": "display_data"
    },
    {
     "data": {
      "image/png": "[encoded data removed]",
      "text/plain": [
       "<Figure size 432x288 with 1 Axes>"
      ]
     },
     "metadata": {
      "needs_background": "light"
     },
     "output_type": "display_data"
    }
   ],
   "source": [
    "SimulationTime = 10.0\n",
    "dt = 0.1\n",
    "t = np.arange(0.0, SimulationTime+dt, dt)\n",
    "#________________________________________________________________________________________________\n",
    "# If fluid is more dense than the ball it will not sink\n",
    "p_ball = 100\n",
    "p_fluid = 200 \n",
    "V = m / p_ball\n",
    "g = 9.8\n",
    "a = 0.1\n",
    "b = 0.1 \n",
    "m = 0.1 \n",
    "init_cond = np.array((0, 0))\n",
    "x = odeint(falling_ball, init_cond, t, args=(a, b, p_fluid))\n",
    "plt.plot(t, x[:,0], label='x - position')\n",
    "plt.plot(t, x[:,1], label='v - velocity')\n",
    "plt.xlabel('time')\n",
    "plt.ylabel('position')\n",
    "plt.legend()\n",
    "plt.show() # this produces erratic results, not sure why, but either way the velocity is 0 generally\n",
    "# for the purpose I don't need this function to work under these crazy edge cases so I wont worry about it\n",
    "\n",
    "#________________________________________________________________________________________________\n",
    "# If there is no resistance of any kind there will be no terminal velocity\n",
    "p_ball = 100\n",
    "p_fluid = 0\n",
    "V = m / p_ball\n",
    "g = 9.8\n",
    "a = 0\n",
    "b = 0\n",
    "m = 1.0\n",
    "init_cond = np.array((0, 0))\n",
    "y = odeint(falling_ball, init_cond, t, args=(a, b, p_fluid))\n",
    "plt.plot(t, y[:,0], label='x - position')\n",
    "plt.plot(t, y[:,1], label='v - velocity')\n",
    "plt.xlabel('time')\n",
    "plt.ylabel('position')\n",
    "plt.legend()\n",
    "plt.show() # the velocity slope is constant --> constant acceleration due to gravity "
   ]
  },
  {
   "cell_type": "markdown",
   "metadata": {},
   "source": [
    "# Discussion"
   ]
  },
  {
   "cell_type": "markdown",
   "metadata": {},
   "source": [
    "##### What are the final fitted parameters. Do they make sense?\n",
    "a_fit: 0.00026611188266238944\n",
    "\n",
    "b_fit: 0.0003658912727057982 \n",
    "\n",
    "p_fluid_fit: 7.085328824634153e-13\n",
    "\n",
    "a and b make sense. b is very close to what my original guess for it would be and a is in the same order of magnitude so that definantely makes sense. My p_fluid_fit however, does not make as much sense I suspect it is not well defined by the data given. "
   ]
  },
  {
   "cell_type": "markdown",
   "metadata": {},
   "source": [
    "##### Which fit (polynomial or the model) produces more reasonable extrapolations of the measured position for $t=50\\dots 150$ seconds?"
   ]
  },
  {
   "cell_type": "markdown",
   "metadata": {},
   "source": [
    "The model clearly creates a better fit for $t=50\\dots 150$ seconds. My graphs above show this pretty clearly. The linear fit has the wrong slope at the terminal velocity and will always produce the incorect terminal velocity. As for the higher degree polynomial fits, they will either approach infinity or negative infinity in quadratic, cubic, etc. time when the data shows that there should be a constant slope of position (terminal velocity) after a ceartain amount of time. Even though I have not plotted out to t = 150 it is clear from the graphs (and general math knowledge) that they will approach infinity **much** faster than the linear final trajectory of the data. \n",
    "\n",
    "Therefore the fit I produced with my model is clearly the best. "
   ]
  },
  {
   "cell_type": "markdown",
   "metadata": {},
   "source": [
    "##### Can you guess which fluid is the ball falling in?"
   ]
  },
  {
   "cell_type": "markdown",
   "metadata": {},
   "source": [
    "- a fit: 0.000266\n",
    "- b fit: 0.000365\n",
    "- fluid density guess: ~0-4\n",
    "\n",
    "my fluid density guess is interesting, depending on how many points I choose for the original quadradic fit (in the model development section) the fluid desnity estimate could range from -8 to 20. (20 being more points, -8 being less) less data points should be more accurate (because velocity is smaller) but a negative value is clearly experimental noise, therefore I am guessing it is inbetween 0 and the next value of 4 $\\frac{kg}{m^3}$\n",
    "\n",
    "$a=6\\pi\\eta r$ --> $\\eta$ is the dynamic viscocity, r is radius\n",
    "\n",
    "$b=1/2 \\rho_{\\rm fluid}\\pi r^2 c_d$ --> $c_d$ is the drag coefficient ~(0.1, 0.3)\n",
    "\n"
   ]
  },
  {
   "cell_type": "code",
   "execution_count": 126,
   "metadata": {},
   "outputs": [
    {
     "name": "stdout",
     "output_type": "stream",
     "text": [
      "0.0004351537495216364\n"
     ]
    }
   ],
   "source": [
    "#a = 6*np.pi*n*r\n",
    "a = 0.000266\n",
    "m = 0.1\n",
    "p_ball = 700\n",
    "\n",
    "V = m/p_ball # volume\n",
    "r = (V/((4/3)*np.pi))**(1/3)# radius\n",
    "\n",
    "n = a/(6*np.pi*r)\n",
    "\n",
    "print(n)"
   ]
  },
  {
   "cell_type": "code",
   "execution_count": 127,
   "metadata": {},
   "outputs": [
    {
     "name": "stdout",
     "output_type": "stream",
     "text": [
      "0.009402201579015716\n"
     ]
    }
   ],
   "source": [
    "# b = 0.5*p_fluid*np.pi*(r**2)*c_d\n",
    "b = 0.000365\n",
    "p_fluid = 23.5 \n",
    "\n",
    "c_d = b/(0.5*p_fluid*np.pi*(r**2))\n",
    "print(c_d)"
   ]
  },
  {
   "cell_type": "markdown",
   "metadata": {},
   "source": [
    "Given these small values of viscocity and drag, I would guess that the 'fluid' we are dropping the ball in is actually a gas. The density of air is about $1.23 \\frac{kg}{m^3}$ at sea level so I am guessing the ball is being dropped through air or some combination of gasses. The dynamic viscocity of air is 1.8e-5\n",
    "\n",
    "However, the dynamic viscocity of water is 1.79e-3 kg/ms which is much closer to our guess for $\\eta$ But the density of water is $1000 \\frac{kg}{m^3}$. \n",
    "\n",
    "In all, if I had to guess what the ball was falling in I would say air, however I am not quite sure how to interpret the different dynamic viscocities. \n"
   ]
  }
 ],
 "metadata": {
  "kernelspec": {
   "display_name": "Python 3",
   "language": "python",
   "name": "python3"
  },
  "language_info": {
   "codemirror_mode": {
    "name": "ipython",
    "version": 3
   },
   "file_extension": ".py",
   "mimetype": "text/x-python",
   "name": "python",
   "nbconvert_exporter": "python",
   "pygments_lexer": "ipython3",
   "version": "3.7.4"
  }
 },
 "nbformat": 4,
 "nbformat_minor": 2
}
