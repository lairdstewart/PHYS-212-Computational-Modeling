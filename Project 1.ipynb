{
 "cells": [
  {
   "cell_type": "markdown",
   "metadata": {},
   "source": [
    "## Module 1 Project\n",
    "### Physics/Biology 212, Spring 2020\n",
    "\n",
    "## Student Name: Laird Stewart \n",
    "### Group members, if any: NA\n",
    "### Date: 02/10/20"
   ]
  },
  {
   "cell_type": "markdown",
   "metadata": {},
   "source": [
    "__________________________________________________________________________________________________________________\n",
    "### Introduction\n",
    "In this project I solve the problem of finding the resting position of a moving cart on the cable of a bridge. The bridge has a catenary shape and the cart has a built in motor. The cart will start at some point along the cable of the bridge and its built in motor will carry it untill it stops or reaches the top of one side or the other. This model is deterministic, static and continuous in space. \n",
    "\n",
    "### Problem Analysis\n",
    "In this problem based on starting conditions there are two possible outcomes: \n",
    "1. The cart's motor provides enough force for it to reach the top of the bridge cable. \n",
    "2. The cart's motor does not provide enough power, and it settles into equilibrium where the force of its motor is equal to the force of gravity in the direction of motion\n",
    "\n",
    "In this problem we are assuming there are no other forces aside from the cart's motor and gravity (friction, air resistance, etc.). \n",
    "\n",
    "### Model development\n",
    "\n",
    "In order to solve this problem we must find the position where the sum of the forces is equal. In other words, the point where the force of the cart's motor is equal to that of gravity in the direction of the cable. This becomes difficult because the force of gravity will change depending on how far up the cable the cart is, because as the cable becomes steeper, gravity will push harder against the cart's motion instead of pushing the cart into the cable. The amount that gravity effects the cart therefore has to do with the slope of the cable, modeled by $acosh(\\frac{x}{a})$. The angle of the cable at any point with the horizontal will be $\\theta = 90-tan^{-1}(slope)$. From there we can find the force of gravity that opposes motion with cosine. And find our final equation: \n",
    "\n",
    "\n",
    "$$\\theta = 90-tan^{-1}(slope)$$\n",
    "\n",
    "$$cos(\\theta)=\\frac{Fg(parrallel)}{Fg}$$\n",
    "\n",
    "$$Fg*cos(\\theta)=Fg(parrallel)$$\n",
    "\n",
    "$$m*g*cos(90-tan^{-1}(slope)) =Fg(parrallel)$$\n",
    "\n",
    "slope = derivative of $acosh(\\frac{x}{a})$ = \n",
    "\n",
    "$$sinh(\\frac{x}{a})$$\n",
    "\n",
    "$$m*g*cos(90-tan^{-1}(sinh(\\frac{x}{a})) =Fg(parrallel)$$\n",
    "\n",
    "when the cart is stopped, sum of all forces is zero:\n",
    "\n",
    "$$\\sum{F} = 0 $$\n",
    "\n",
    "$$Fc + Fg(parallel)=0$$\n",
    "\n",
    "\n",
    "put that all together and we get a function of x: \n",
    "\n",
    "\n",
    "$$m*g*sin(tan^{-1}(sinh(\\frac{x}{a})) + Fc = 0 $$\n",
    "\n",
    "\n",
    "Now we have to find the zero of this function. We can use the Newton-Raphson method that we discussed in class with functions F(x) and F'(x) = G(x): \n",
    "$F(x) = m*g*sin(tan^{-1}(sinh(\\frac{x}{a}))) - Fc $\n",
    "\n",
    "$(G(x) = \\frac{m*g*cosh(\\frac{x}{a})}{a*(sinh^2(\\frac{x}{a})+1)^{\\frac{3}{2}}} $\n",
    "\n",
    "### Code Analysis\n",
    "The function F(x) looks simmilar to arctan(x), so depending on Fc (the vertical shift) the function will either have 1 zero, or none. In the case that the funciton has a zero the Newton-Raphson method can find it quite easily. However, if there is no zero, the method will quickly approach infinity. In the context of the problem this means that the motor on the cart is strong enough to counter the full force of gravity, so no matter how steep the bridge is it will continue to climb. \n",
    "\n",
    "However, we can't just consider the zero the resting point of the cart, if the locaiton of the zero is beoynd the length of the bridge itself 'l' then in the context of the problem the cart has reached the top. In order to solve the problem of the Newton method going to infinity and the previously described problem, my loop simply stops once x becomes greater than 'l' and returns that the cart will reach the top. Therefore there is no need for convergence checks or anything like that. This is easy as the 'x' in the equation F(x) and G(x) is the distance from the bottom of the bridge in the x direction. \n",
    "\n",
    "After checking for valid starting conditions like positive mass, positive length of the bridge, (etc.), the last question was that of a negative cart force. In the context of the problem this would just mean that the cart would move to the left instead of to the right. As you can see from the F(x) equation if Fc is negative then it would appear that the force of gravity and the force of the cart are acting in the same direction which is never the case. To deal with this, I simply check at the beggining if the force is negative, if it is I keep note of that, then make it positive and continue as normal. Then at the end, I change the sign of the solution. This works because of the symetry of the bridge. No matter which direction the cart is moving it will come to rest the same distance from the bottom in either direction. "
   ]
  },
  {
   "cell_type": "code",
   "execution_count": 84,
   "metadata": {},
   "outputs": [],
   "source": [
    "# initialization\n",
    "import numpy as np \n",
    "import math\n",
    "\n",
    "m = 1 # kg \n",
    "Fc = -7 # kg*g/s^2\n",
    "a = 10 # m \n",
    "l = 10 # m, half length of total bridge\n",
    "x0 = -4\n",
    "g = 9.8\n",
    "Tolerance = 0.001\n",
    "\n",
    "# a gives us the shape of the catenary curve, and l gives us how long in either direction from the origin the\n",
    "# curve (bridge) extends. "
   ]
  },
  {
   "cell_type": "code",
   "execution_count": 86,
   "metadata": {},
   "outputs": [
    {
     "name": "stdout",
     "output_type": "stream",
     "text": [
      "the cart will end up -8.958797346140267 meters to the left of the bottom of the bridge in the x direction\n"
     ]
    }
   ],
   "source": [
    "x = x0 #initial value for starting the loop\n",
    "dx = 1.0 # fake \"last change in x\"\n",
    "Error = False\n",
    "forceNegative = False # if the force is negative, the cart will go the same distance just in the opposite direction\n",
    "                    # i didn't want to write all the code again, so i will just change sign at the end \n",
    "\n",
    "# input error catches \n",
    "if(x0 > l or x0 < -l): \n",
    "    print(\"cart's initial condition not on birdge\")\n",
    "    Error = True\n",
    "if(m < 0): \n",
    "    print(\"cart's mass can't be negative\") \n",
    "    Error = True\n",
    "if(Fc < 0): \n",
    "    forceNegative = True\n",
    "    force = abs(Fc) # make the force positive so the loop runs as normal \n",
    "else: \n",
    "    force = Fc # i don't want to permanantely change the variable Fc\n",
    "if(l < 0): \n",
    "    print(\"length of bridge can't be negative\") \n",
    "    Error = True\n",
    "if(g < 0): \n",
    "    g = abs(g) # just automatically make g positive so the math works \n",
    "if(Tolerance < 0): \n",
    "    print(\"tolerance can't be negative\")\n",
    "    Error = True\n",
    "\n",
    "# loop\n",
    "if(Error == False): \n",
    "    while(np.abs(dx) > Tolerance):\n",
    "        F = m*g*np.sin(np.arctan(np.sinh(x/a))) - force\n",
    "        G = m*g*np.cosh(x/a)/(a*((np.sinh(x/a))**2+1)**(3/2))\n",
    "        dx = -F/G\n",
    "        x = x+dx\n",
    "\n",
    "        if(x > l): \n",
    "            print(\"the cart will reach the top of the bridge\") \n",
    "            Error = True\n",
    "            break\n",
    "\n",
    "if (Error == False): \n",
    "    if(forceNegative == True): \n",
    "        print(\"the cart will end up \" + str(-x) + \" meters to the left of the bottom of the bridge in the x direction\")\n",
    "    else: \n",
    "        print(\"the cart will end up \" + str(x) + \" meters to the right of the bottom of the bridge in the x direction\")"
   ]
  },
  {
   "cell_type": "code",
   "execution_count": null,
   "metadata": {},
   "outputs": [],
   "source": []
  }
 ],
 "metadata": {
  "kernelspec": {
   "display_name": "Python 3",
   "language": "python",
   "name": "python3"
  },
  "language_info": {
   "codemirror_mode": {
    "name": "ipython",
    "version": 3
   },
   "file_extension": ".py",
   "mimetype": "text/x-python",
   "name": "python",
   "nbconvert_exporter": "python",
   "pygments_lexer": "ipython3",
   "version": "3.7.4"
  }
 },
 "nbformat": 4,
 "nbformat_minor": 2
}
